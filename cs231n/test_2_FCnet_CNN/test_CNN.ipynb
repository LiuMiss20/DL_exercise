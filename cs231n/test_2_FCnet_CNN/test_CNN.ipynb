{
 "cells": [
  {
   "cell_type": "markdown",
   "metadata": {
    "toc": "true"
   },
   "source": [
    "# Table of Contents\n",
    " <p><div class=\"lev1 toc-item\"><a href=\"#Convolutional-Networks\" data-toc-modified-id=\"Convolutional-Networks-1\"><span class=\"toc-item-num\">1&nbsp;&nbsp;</span>Convolutional Networks</a></div><div class=\"lev1 toc-item\"><a href=\"#普通层模块：Convolution:-Naive-forward-pass\" data-toc-modified-id=\"普通层模块：Convolution:-Naive-forward-pass-2\"><span class=\"toc-item-num\">2&nbsp;&nbsp;</span>普通层模块：Convolution: Naive forward pass</a></div><div class=\"lev1 toc-item\"><a href=\"#通过卷积进行图像处理:-Image-processing-via-convolutions\" data-toc-modified-id=\"通过卷积进行图像处理:-Image-processing-via-convolutions-3\"><span class=\"toc-item-num\">3&nbsp;&nbsp;</span>通过卷积进行图像处理: Image processing via convolutions</a></div><div class=\"lev1 toc-item\"><a href=\"#普通层模块：Convolution:-Naive-backward-pass\" data-toc-modified-id=\"普通层模块：Convolution:-Naive-backward-pass-4\"><span class=\"toc-item-num\">4&nbsp;&nbsp;</span>普通层模块：Convolution: Naive backward pass</a></div><div class=\"lev1 toc-item\"><a href=\"#普通层模块：Max-pooling:-Naive-forward\" data-toc-modified-id=\"普通层模块：Max-pooling:-Naive-forward-5\"><span class=\"toc-item-num\">5&nbsp;&nbsp;</span>普通层模块：Max pooling: Naive forward</a></div><div class=\"lev1 toc-item\"><a href=\"#普通层模块：Max-pooling:-Naive-backward\" data-toc-modified-id=\"普通层模块：Max-pooling:-Naive-backward-6\"><span class=\"toc-item-num\">6&nbsp;&nbsp;</span>普通层模块：Max pooling: Naive backward</a></div><div class=\"lev1 toc-item\"><a href=\"#快速层模块：Fast-layers\" data-toc-modified-id=\"快速层模块：Fast-layers-7\"><span class=\"toc-item-num\">7&nbsp;&nbsp;</span>快速层模块：Fast layers</a></div><div class=\"lev1 toc-item\"><a href=\"#层模式模块：Convolutional-&quot;sandwich&quot;-layers\" data-toc-modified-id=\"层模式模块：Convolutional-&quot;sandwich&quot;-layers-8\"><span class=\"toc-item-num\">8&nbsp;&nbsp;</span>层模式模块：Convolutional \"sandwich\" layers</a></div><div class=\"lev1 toc-item\"><a href=\"#分类器模块：-Three-layer-ConvNet\" data-toc-modified-id=\"分类器模块：-Three-layer-ConvNet-9\"><span class=\"toc-item-num\">9&nbsp;&nbsp;</span>分类器模块： Three-layer ConvNet</a></div><div class=\"lev2 toc-item\"><a href=\"#检查损失：Sanity-check-loss\" data-toc-modified-id=\"检查损失：Sanity-check-loss-91\"><span class=\"toc-item-num\">9.1&nbsp;&nbsp;</span>检查损失：Sanity check loss</a></div><div class=\"lev2 toc-item\"><a href=\"#检查梯度：Gradient-check\" data-toc-modified-id=\"检查梯度：Gradient-check-92\"><span class=\"toc-item-num\">9.2&nbsp;&nbsp;</span>检查梯度：Gradient check</a></div><div class=\"lev2 toc-item\"><a href=\"#过拟合小数据：Overfit-small-data\" data-toc-modified-id=\"过拟合小数据：Overfit-small-data-93\"><span class=\"toc-item-num\">9.3&nbsp;&nbsp;</span>过拟合小数据：Overfit small data</a></div><div class=\"lev2 toc-item\"><a href=\"#Train-the-net\" data-toc-modified-id=\"Train-the-net-94\"><span class=\"toc-item-num\">9.4&nbsp;&nbsp;</span>Train the net</a></div><div class=\"lev2 toc-item\"><a href=\"#Visualize-Filters\" data-toc-modified-id=\"Visualize-Filters-95\"><span class=\"toc-item-num\">9.5&nbsp;&nbsp;</span>Visualize Filters</a></div><div class=\"lev1 toc-item\"><a href=\"#空间批量归一化？：Spatial-Batch-Normalization\" data-toc-modified-id=\"空间批量归一化？：Spatial-Batch-Normalization-10\"><span class=\"toc-item-num\">10&nbsp;&nbsp;</span>空间批量归一化？：Spatial Batch Normalization</a></div><div class=\"lev2 toc-item\"><a href=\"#普通层模块：Spatial-batch-normalization:-forward\" data-toc-modified-id=\"普通层模块：Spatial-batch-normalization:-forward-101\"><span class=\"toc-item-num\">10.1&nbsp;&nbsp;</span>普通层模块：Spatial batch normalization: forward</a></div><div class=\"lev2 toc-item\"><a href=\"#普通层模块：Spatial-batch-normalization:-backward\" data-toc-modified-id=\"普通层模块：Spatial-batch-normalization:-backward-102\"><span class=\"toc-item-num\">10.2&nbsp;&nbsp;</span>普通层模块：Spatial batch normalization: backward</a></div>"
   ]
  },
  {
   "cell_type": "markdown",
   "metadata": {},
   "source": [
    "# Convolutional Networks"
   ]
  },
  {
   "cell_type": "code",
   "execution_count": null,
   "metadata": {
    "collapsed": true
   },
   "outputs": [],
   "source": [
    "# As usual, a bit of setup\n",
    "from __future__ import print_function\n",
    "import numpy as np\n",
    "import matplotlib.pyplot as plt\n",
    "from cs231n.classifiers.cnn import *\n",
    "from cs231n.data_utils import get_CIFAR10_data\n",
    "from cs231n.gradient_check import eval_numerical_gradient_array, eval_numerical_gradient\n",
    "from cs231n.layers import *\n",
    "from cs231n.fast_layers import *\n",
    "from cs231n.solver import Solver\n",
    "\n",
    "%matplotlib inline\n",
    "plt.rcParams['figure.figsize'] = (10.0, 8.0) # set default size of plots\n",
    "plt.rcParams['image.interpolation'] = 'nearest'\n",
    "plt.rcParams['image.cmap'] = 'gray'\n",
    "\n",
    "# for auto-reloading external modules\n",
    "# see http://stackoverflow.com/questions/1907993/autoreload-of-modules-in-ipython\n",
    "%load_ext autoreload\n",
    "%autoreload 2\n",
    "\n",
    "def rel_error(x, y):\n",
    "  \"\"\" returns relative error \"\"\"\n",
    "  return np.max(np.abs(x - y) / (np.maximum(1e-8, np.abs(x) + np.abs(y))))"
   ]
  },
  {
   "cell_type": "code",
   "execution_count": null,
   "metadata": {
    "collapsed": true
   },
   "outputs": [],
   "source": [
    "# Load the (preprocessed) CIFAR10 data.\n",
    "\n",
    "data = get_CIFAR10_data()\n",
    "for k, v in data.items():\n",
    "  print('%s: ' % k, v.shape)"
   ]
  },
  {
   "cell_type": "markdown",
   "metadata": {},
   "source": [
    "# 普通层模块：Convolution: Naive forward pass\n",
    "CNN的核心是：卷积操作\n",
    "- `layers.py`  --> `conv_forward_naive`. "
   ]
  },
  {
   "cell_type": "code",
   "execution_count": null,
   "metadata": {
    "collapsed": true
   },
   "outputs": [],
   "source": []
  },
  {
   "cell_type": "markdown",
   "metadata": {},
   "source": [
    "# 通过卷积进行图像处理: Image processing via convolutions\n",
    "\n",
    "检查实现并获得更好地理解卷积层可以执行的操作类型：\n",
    "\n",
    "设置一个包含两个图像的输入，手动设置filters，来执行常见图像处理操作（灰度转换和边缘检测）"
   ]
  },
  {
   "cell_type": "code",
   "execution_count": null,
   "metadata": {
    "collapsed": true
   },
   "outputs": [],
   "source": []
  },
  {
   "cell_type": "markdown",
   "metadata": {},
   "source": [
    "# 普通层模块：Convolution: Naive backward pass\n",
    "- `layers.py` --> `conv_backward_naive` "
   ]
  },
  {
   "cell_type": "code",
   "execution_count": null,
   "metadata": {
    "collapsed": true
   },
   "outputs": [],
   "source": []
  },
  {
   "cell_type": "markdown",
   "metadata": {},
   "source": [
    "# 普通层模块：Max pooling: Naive forward\n",
    "- `layers.py` --> `max_pool_forward_naive`"
   ]
  },
  {
   "cell_type": "code",
   "execution_count": null,
   "metadata": {
    "collapsed": true
   },
   "outputs": [],
   "source": []
  },
  {
   "cell_type": "markdown",
   "metadata": {},
   "source": [
    "# 普通层模块：Max pooling: Naive backward\n",
    "- `layers.py` -->  `max_pool_backward_naive` "
   ]
  },
  {
   "cell_type": "code",
   "execution_count": null,
   "metadata": {
    "collapsed": true
   },
   "outputs": [],
   "source": []
  },
  {
   "cell_type": "markdown",
   "metadata": {},
   "source": [
    "# 快速层模块：Fast layers\n",
    "-  `cs231n/fast_layers.py`.\n",
    " 对卷积和拼合层的前向和向后传递的快速实现\n",
    " \n",
    "依赖 Cython extension;需要编译\n",
    "\n",
    "```bash\n",
    "python setup.py build_ext --inplace\n",
    "```\n",
    "\n",
    "\n",
    "**NOTE:** The fast implementation for pooling will only perform optimally if the pooling regions are non-overlapping and tile the input. If these conditions are not met then the fast pooling implementation will not be much faster than the naive implementation.\n"
   ]
  },
  {
   "cell_type": "code",
   "execution_count": null,
   "metadata": {
    "collapsed": true
   },
   "outputs": [],
   "source": []
  },
  {
   "cell_type": "code",
   "execution_count": null,
   "metadata": {
    "collapsed": true
   },
   "outputs": [],
   "source": []
  },
  {
   "cell_type": "markdown",
   "metadata": {},
   "source": [
    "# 层模式模块：Convolutional \"sandwich\" layers\n",
    "- `layer_utils.py` "
   ]
  },
  {
   "cell_type": "code",
   "execution_count": null,
   "metadata": {
    "collapsed": true
   },
   "outputs": [],
   "source": []
  },
  {
   "cell_type": "code",
   "execution_count": null,
   "metadata": {
    "collapsed": true
   },
   "outputs": [],
   "source": []
  },
  {
   "cell_type": "markdown",
   "metadata": {},
   "source": [
    "# 分类器模块： Three-layer ConvNet\n",
    "- `classifiers/cnn.py` --> `ThreeLayerConvNet` class"
   ]
  },
  {
   "cell_type": "code",
   "execution_count": null,
   "metadata": {
    "collapsed": true
   },
   "outputs": [],
   "source": []
  },
  {
   "cell_type": "markdown",
   "metadata": {},
   "source": [
    "## 检查损失：Sanity check loss\n",
    "一旦创建新net，首先 检查损失！！ \n",
    "\n",
    "When we use the softmax loss, we expect the loss for random weights (and no regularization) to be about `log(C)` for `C` classes. "
   ]
  },
  {
   "cell_type": "code",
   "execution_count": null,
   "metadata": {
    "collapsed": true
   },
   "outputs": [],
   "source": []
  },
  {
   "cell_type": "markdown",
   "metadata": {},
   "source": [
    "## 检查梯度：Gradient check\n",
    "损失看起来合理后，使用 数值梯度检查，确保 backward pass是正确. \n",
    "\n",
    "方法： use a small amount of artifical data and a small number of neurons at each layer.\n"
   ]
  },
  {
   "cell_type": "code",
   "execution_count": null,
   "metadata": {
    "collapsed": true
   },
   "outputs": [],
   "source": []
  },
  {
   "cell_type": "markdown",
   "metadata": {},
   "source": [
    "## 过拟合小数据：Overfit small data\n",
    "A nice trick is to train your model with just a few training samples. \n",
    "\n",
    "使用一些训练样本 训练模型，使其出现过拟合，即出现 非常高的train准确度以及相对较低的val准确度"
   ]
  },
  {
   "cell_type": "code",
   "execution_count": null,
   "metadata": {
    "collapsed": true
   },
   "outputs": [],
   "source": []
  },
  {
   "cell_type": "markdown",
   "metadata": {},
   "source": [
    "Plotting the loss, training accuracy, and validation accuracy should show clear overfitting:"
   ]
  },
  {
   "cell_type": "code",
   "execution_count": null,
   "metadata": {
    "collapsed": true
   },
   "outputs": [],
   "source": []
  },
  {
   "cell_type": "markdown",
   "metadata": {},
   "source": [
    "## Train the net\n",
    "训练3层conv net"
   ]
  },
  {
   "cell_type": "code",
   "execution_count": null,
   "metadata": {
    "collapsed": true,
    "scrolled": false
   },
   "outputs": [],
   "source": []
  },
  {
   "cell_type": "markdown",
   "metadata": {},
   "source": [
    "## Visualize Filters\n",
    "可视化 first-layer convolutional filters"
   ]
  },
  {
   "cell_type": "code",
   "execution_count": null,
   "metadata": {
    "collapsed": true
   },
   "outputs": [],
   "source": []
  },
  {
   "cell_type": "markdown",
   "metadata": {},
   "source": [
    "# 空间批量归一化？：Spatial Batch Normalization\n",
    "批量标准化也可以用于卷积网络，被称为“空间批量标准化”(spatial batch normalization)\n",
    "\n",
    "\n",
    "Normally batch-normalization accepts inputs of shape `(N, D)` and produces outputs of shape `(N, D)`, where we normalize across the minibatch dimension `N`. For data coming from convolutional layers, batch normalization needs to accept inputs of shape `(N, C, H, W)` and produce outputs of shape `(N, C, H, W)` where the `N` dimension gives the minibatch size and the `(H, W)` dimensions give the spatial size of the feature map.\n",
    "\n",
    "If the feature map was produced using convolutions, then we expect the statistics of each feature channel to be relatively consistent both between different imagesand different locations within the same image. Therefore spatial batch normalization computes a mean and variance for each of the `C` feature channels by computing statistics over both the minibatch dimension `N` and the spatial dimensions `H` and `W`."
   ]
  },
  {
   "cell_type": "markdown",
   "metadata": {},
   "source": [
    "## 普通层模块：Spatial batch normalization: forward\n",
    "- `layers.py`--> `spatial_batchnorm_forward`"
   ]
  },
  {
   "cell_type": "code",
   "execution_count": null,
   "metadata": {
    "collapsed": true
   },
   "outputs": [],
   "source": []
  },
  {
   "cell_type": "code",
   "execution_count": null,
   "metadata": {
    "collapsed": true
   },
   "outputs": [],
   "source": []
  },
  {
   "cell_type": "markdown",
   "metadata": {},
   "source": [
    "## 普通层模块：Spatial batch normalization: backward\n",
    "- `layers.py`--> `spatial_batchnorm_backward`"
   ]
  },
  {
   "cell_type": "code",
   "execution_count": null,
   "metadata": {
    "collapsed": true
   },
   "outputs": [],
   "source": []
  }
 ],
 "metadata": {
  "kernelspec": {
   "display_name": "Python 3",
   "language": "python",
   "name": "python3"
  },
  "language_info": {
   "codemirror_mode": {
    "name": "ipython",
    "version": 3
   },
   "file_extension": ".py",
   "mimetype": "text/x-python",
   "name": "python",
   "nbconvert_exporter": "python",
   "pygments_lexer": "ipython3",
   "version": "3.5.3"
  },
  "toc": {
   "colors": {
    "hover_highlight": "#DAA520",
    "navigate_num": "#000000",
    "navigate_text": "#333333",
    "running_highlight": "#FF0000",
    "selected_highlight": "#FFD700",
    "sidebar_border": "#EEEEEE",
    "wrapper_background": "#FFFFFF"
   },
   "moveMenuLeft": true,
   "nav_menu": {
    "height": "345px",
    "width": "253px"
   },
   "navigate_menu": true,
   "number_sections": true,
   "sideBar": true,
   "threshold": 4,
   "toc_cell": true,
   "toc_position": {
    "height": "550px",
    "left": "0px",
    "right": "1120.67px",
    "top": "95.9954px",
    "width": "301px"
   },
   "toc_section_display": "block",
   "toc_window_display": false,
   "widenNotebook": false
  }
 },
 "nbformat": 4,
 "nbformat_minor": 1
}
