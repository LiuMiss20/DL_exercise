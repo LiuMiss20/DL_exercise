{
 "cells": [
  {
   "cell_type": "markdown",
   "metadata": {},
   "source": [
    "# Softmax  分类器\n",
    "\n",
    "\n",
    "This exercise is analogous to the SVM exercise. You will:\n",
    "\n",
    "- implement a fully-vectorized **loss function** for the Softmax classifier\n",
    "- implement the fully-vectorized expression for its **analytic gradient**\n",
    "- **check your implementation** with numerical gradient\n",
    "- use a validation set to **tune the learning rate and regularization** strength\n",
    "- **optimize** the loss function with **SGD**\n",
    "- **visualize** the final learned weights\n",
    "\n",
    "\n",
    "- 实现Softmax分类器的全向量化损失函数\n",
    "- 实现其分解梯度的完全向量化表达式\n",
    "- 用数值梯度检查你的实现\n",
    "- 使用验证集调整学习率和正则化强度\n",
    "- 用SGD优化损耗功能\n",
    "- 可视化最终学习的权重"
   ]
  },
  {
   "cell_type": "code",
   "execution_count": 1,
   "metadata": {
    "collapsed": true
   },
   "outputs": [],
   "source": [
    "import random\n",
    "import numpy as np\n",
    "from data_utils import load_CIFAR10\n",
    "import matplotlib.pyplot as plt\n",
    "\n",
    "from __future__ import print_function # 把下一个新版本的特性导入到当前版本，就可以在当前版本中测试一些新版本的特性"
   ]
  },
  {
   "cell_type": "code",
   "execution_count": 2,
   "metadata": {
    "collapsed": true
   },
   "outputs": [],
   "source": [
    "%matplotlib inline\n",
    "plt.rcParams['figure.figsize'] = (10.0, 8.0) # 设置 size\n",
    "plt.rcParams['image.interpolation'] = 'nearest'\n",
    "plt.rcParams['image.cmap'] = 'gray'\n",
    "\n",
    "# notebook 会 reload外部python modules\n",
    "%load_ext autoreload \n",
    "%autoreload 2"
   ]
  },
  {
   "cell_type": "markdown",
   "metadata": {},
   "source": [
    "## 数据集"
   ]
  },
  {
   "cell_type": "markdown",
   "metadata": {},
   "source": [
    "#### get data and preprocessing"
   ]
  },
  {
   "cell_type": "code",
   "execution_count": 3,
   "metadata": {
    "collapsed": true
   },
   "outputs": [],
   "source": [
    "def get_CIFAR_10_data(num_train = 49000,num_val = 1000,num_test = 10000,num_dev = 500):\n",
    "    # 1、Load the raw CIFAR-10 data.\n",
    "    cifar10_dir = 'datasets/cifar-10-batches-py/'\n",
    "    X_train, y_train,  X_test, y_test = load_CIFAR10(cifar10_dir)\n",
    "\n",
    "    # 2、subsample the data\n",
    "    # validation set\n",
    "    mask = list(range(num_train, num_train + num_val)) \n",
    "    X_val = X_train[mask]\n",
    "    y_val = y_train[mask]\n",
    "\n",
    "    # training set \n",
    "    mask = list(range(num_train))  \n",
    "    X_train = X_train[mask]\n",
    "    y_train = y_train[mask]\n",
    "\n",
    "    # test set   \n",
    "    mask = list(range(num_test))\n",
    "    X_test = X_test[mask]\n",
    "    y_test = y_test[mask]\n",
    "    \n",
    "    # development set\n",
    "    mask = np.random.choice(num_train, num_dev, replace=False) \n",
    "    X_dev = X_train[mask]\n",
    "    y_dev = y_train[mask]\n",
    "\n",
    "\n",
    "    # 3、proprocessing --reshape: reshape the image data into rows\n",
    "    X_train = np.reshape(X_train, (X_train.shape[0], -1)) \n",
    "    X_val = np.reshape(X_val, (X_val.shape[0], -1)) \n",
    "    X_test = np.reshape(X_test, (X_test.shape[0], -1)) \n",
    "    X_dev = np.reshape(X_dev, (X_dev.shape[0], -1)) \n",
    "\n",
    "\n",
    "    # 4、proprocessing -- 归一化: subtract the mean image 减去 图像均值\n",
    "    #  4.1、计算 train data 的均值图像\n",
    "    mean_img = np.mean(X_train, axis=0)\n",
    "\n",
    "    #  4.2、 train 和 test data 减去 均值图像\n",
    "    X_train -= mean_img\n",
    "    X_val -= mean_img\n",
    "    X_test -= mean_img\n",
    "    X_dev -= mean_img\n",
    "\n",
    "    # 5、proprocessing -- 加入 bias: 每个 image 增加 1维的 bias\n",
    "    X_train = np.hstack([X_train, np.ones((X_train.shape[0], 1))]) \n",
    "    X_val = np.hstack([X_val, np.ones((X_val.shape[0], 1))]) \n",
    "    X_test = np.hstack([X_test, np.ones((X_test.shape[0], 1))]) \n",
    "    X_dev = np.hstack([X_dev, np.ones((X_dev.shape[0], 1))]) \n",
    "    \n",
    "    return X_train,y_train,X_val,y_val, X_test, y_test, X_dev,y_dev"
   ]
  },
  {
   "cell_type": "code",
   "execution_count": 4,
   "metadata": {},
   "outputs": [
    {
     "name": "stdout",
     "output_type": "stream",
     "text": [
      "X_train shape:   (49000, 3073)\n",
      "y_train shape:   (49000,)\n",
      "X_val shape:     (1000, 3073)\n",
      "y_val shape:     (1000,)\n",
      "X_test shape:    (10000, 3073)\n",
      "y_test shape:    (10000,)\n",
      "X_dev shape:     (500, 3073)\n",
      "y_dev shape:     (500,)\n"
     ]
    }
   ],
   "source": [
    "# get data and cheak it\n",
    "X_train,y_train,X_val,y_val, X_test, y_test, X_dev,y_dev = get_CIFAR_10_data()\n",
    "print ('X_train shape:  ',X_train.shape)\n",
    "print ('y_train shape:  ',y_train.shape)\n",
    "print ('X_val shape:    ',X_val.shape)\n",
    "print ('y_val shape:    ',y_val.shape)\n",
    "print ('X_test shape:   ',X_test.shape)\n",
    "print ('y_test shape:   ',y_test.shape)\n",
    "print ('X_dev shape:    ',X_dev.shape)\n",
    "print ('y_dev shape:    ',y_dev.shape)"
   ]
  },
  {
   "cell_type": "markdown",
   "metadata": {},
   "source": [
    "## Softmax Classifier"
   ]
  },
  {
   "cell_type": "markdown",
   "metadata": {},
   "source": [
    "#### 创建分类器"
   ]
  },
  {
   "cell_type": "code",
   "execution_count": 63,
   "metadata": {
    "collapsed": true
   },
   "outputs": [],
   "source": [
    "from classifiers.softmax import softmax_loss_naive\n",
    "from classifiers.softmax import softmax_loss_vectorized\n",
    "import time"
   ]
  },
  {
   "cell_type": "code",
   "execution_count": 54,
   "metadata": {},
   "outputs": [
    {
     "name": "stdout",
     "output_type": "stream",
     "text": [
      "loss: 2.368848\n",
      "[-11.67146122  28.20780816 -17.62963469  19.78780816  19.47        33.35219184\n",
      "   0.78926939  -4.92671224 -31.12817347 -36.25109592]\n",
      "check:2.302585\n"
     ]
    }
   ],
   "source": [
    "# 检查 code 能否运行成功\n",
    "# 使用很小的值 随机 初始化W\n",
    "W = np.random.randn(3073, 10) * 0.0001\n",
    "loss, grad = softmax_loss_naive(W, X_dev, y_dev, 0.0)\n",
    "\n",
    "print ('loss: %f' %(loss, ))\n",
    "print (grad[1])\n",
    "\n",
    "# As a rough sanity check, our loss should be something close to -log(0.1).\n",
    "print ('check:%f' % (-np.log(0.1)))"
   ]
  },
  {
   "cell_type": "code",
   "execution_count": 55,
   "metadata": {},
   "outputs": [
    {
     "name": "stdout",
     "output_type": "stream",
     "text": [
      "here\n",
      "loss: 2.360925\n",
      "[-2.59387582  2.8389124  -3.32623315  2.85494143  1.39678275  4.195417\n",
      "  0.8924992   0.57720118 -1.78679612 -5.04884886]\n",
      "check:2.302585\n"
     ]
    }
   ],
   "source": [
    "# 检查 code 能否运行成功\n",
    "# 使用很小的值 随机 初始化W\n",
    "W = np.random.randn(3073, 10) * 0.0001\n",
    "loss, grad = softmax_loss_vectorized(W, X_dev, y_dev, 0.0)\n",
    "\n",
    "print ('loss: %f' %(loss, ))\n",
    "print (grad[1])\n",
    "\n",
    "# As a rough sanity check, our loss should be something close to -log(0.1).\n",
    "print ('check:%f' % (-np.log(0.1)))"
   ]
  },
  {
   "cell_type": "markdown",
   "metadata": {},
   "source": [
    "#### 梯度检查\n",
    "- 梯度检查：分析梯度的结果 与 数值梯度结果 进行比较"
   ]
  },
  {
   "cell_type": "code",
   "execution_count": 52,
   "metadata": {},
   "outputs": [
    {
     "name": "stdout",
     "output_type": "stream",
     "text": [
      "without  regularation\n",
      "numerical: -1.348592 analytic: -5.157154, relative error: 5.854152e-01\n",
      "numerical: -0.363955 analytic: 0.667385, relative error: 1.000000e+00\n",
      "numerical: -0.989875 analytic: 0.664187, relative error: 1.000000e+00\n",
      "numerical: -0.848655 analytic: -1.787335, relative error: 3.561018e-01\n",
      "numerical: -1.336255 analytic: -11.535037, relative error: 7.923666e-01\n",
      "numerical: 1.644652 analytic: 20.453900, relative error: 8.511530e-01\n",
      "numerical: -0.017991 analytic: 0.680093, relative error: 1.000000e+00\n",
      "numerical: 0.516889 analytic: 7.750692, relative error: 8.749601e-01\n",
      "numerical: 0.660750 analytic: -2.524000, relative error: 1.000000e+00\n",
      "numerical: 1.888168 analytic: 9.830000, relative error: 6.777366e-01\n",
      "with  regularation\n",
      "numerical: 0.780736 analytic: 15.743064, relative error: 9.055016e-01\n",
      "numerical: -0.064771 analytic: -8.140000, relative error: 9.842114e-01\n",
      "numerical: -5.309739 analytic: -45.467771, relative error: 7.908626e-01\n",
      "numerical: 1.435399 analytic: 15.516543, relative error: 8.306508e-01\n",
      "numerical: -0.789506 analytic: -0.644816, relative error: 1.008772e-01\n",
      "numerical: -0.546860 analytic: -1.952178, relative error: 5.623436e-01\n",
      "numerical: 0.562267 analytic: -2.408496, relative error: 1.000000e+00\n",
      "numerical: -3.222017 analytic: -33.071593, relative error: 8.224472e-01\n",
      "numerical: -1.184152 analytic: -10.921787, relative error: 8.043684e-01\n",
      "numerical: -0.319883 analytic: 9.998950, relative error: 1.000000e+00\n"
     ]
    }
   ],
   "source": [
    "from gradient_check import grad_check_sparse\n",
    "\n",
    "# 1、 损失函数 不加入 正则化损失时，进行 梯度检查\n",
    "print (\"without  regularation\")\n",
    "loss, grad = softmax_loss_naive(W, X_dev, y_dev, 0.0)\n",
    "f = lambda w: softmax_loss_naive(w, X_dev, y_dev, 0.0)[0]\n",
    "grad_numerical = grad_check_sparse(f, W, grad, 10)\n",
    "\n",
    "\n",
    "# 2、 损失函数 加入 正则化损失时，进行 梯度检查\n",
    "print (\"with  regularation\")\n",
    "loss, grad = softmax_loss_naive(W, X_dev, y_dev, 5e1)\n",
    "f = lambda w: softmax_loss_naive(w, X_dev, y_dev, 5e1)[0]\n",
    "grad_numerical = grad_check_sparse(f, W, grad, 10)"
   ]
  },
  {
   "cell_type": "markdown",
   "metadata": {},
   "source": [
    "#### 比较 不同方法计算loss + grad的运行时间，以及loss 的差距"
   ]
  },
  {
   "cell_type": "code",
   "execution_count": 56,
   "metadata": {},
   "outputs": [
    {
     "name": "stdout",
     "output_type": "stream",
     "text": [
      "Naive loss : 2.401513e+00 computer in 0.134876s\n",
      "here\n",
      "Vectorized loss : 2.360925e+00 computer in 0.013941s\n",
      "loss_different: 0.040588\n",
      "grad_different: 2845.720951\n"
     ]
    }
   ],
   "source": [
    "# 用 naive 方法计算的 loss + grad 时的运行时间\n",
    "start = time.time()\n",
    "loss_naive, grad_naive = softmax_loss_naive(W, X_dev, y_dev, 5e1)\n",
    "end = time.time()\n",
    "print (\"Naive loss : %e computer in %fs\" %(loss_naive, end - start))\n",
    "\n",
    "# 用 vectorized 方法计算的 loss + grad 时的运行时间\n",
    "start = time.time()\n",
    "loss_vectorized, grad_vectorized = softmax_loss_vectorized(W, X_dev, y_dev, 5e1)\n",
    "end = time.time()\n",
    "print (\"Vectorized loss : %e computer in %fs\" %(loss_vectorized, end - start))\n",
    "\n",
    "\n",
    "# 比较 两个loss 的差距\n",
    "loss_different = loss_naive - loss_vectorized  # loss 是 single number\n",
    "print ('loss_different: %f' % (loss_different))\n",
    "\n",
    "\n",
    "# 比较 两个gradient 的差距 -- math:`||A||_F = [\\sum_{i,j} abs(a_{i,j})^2]^{1/2}`\n",
    "grad_different = np.linalg.norm(grad_naive - grad_vectorized, ord='fro')  # 梯度是 matrix\n",
    "print ('grad_different: %f' % (grad_different))"
   ]
  },
  {
   "cell_type": "markdown",
   "metadata": {},
   "source": [
    "## 调整超参数 --> 交叉验证  on  val set \n",
    "- 在 train set 上训练 分类器,获取loss\n",
    "- 在 train set 和 val set 上 计算 准确率"
   ]
  },
  {
   "cell_type": "code",
   "execution_count": 68,
   "metadata": {},
   "outputs": [
    {
     "name": "stdout",
     "output_type": "stream",
     "text": [
      "\n",
      " ======>>>> lr : reg -->  1e-07 -- 25000.0\n",
      "iteration 0 / 10: loss 775.219256\n",
      "iteration 1 / 10: loss 775.009923\n",
      "iteration 2 / 10: loss 775.196286\n",
      "iteration 3 / 10: loss 774.913710\n",
      "iteration 4 / 10: loss 774.702482\n",
      "iteration 5 / 10: loss 774.878825\n",
      "iteration 6 / 10: loss 774.871425\n",
      "iteration 7 / 10: loss 774.787658\n",
      "iteration 8 / 10: loss 774.898343\n",
      "iteration 9 / 10: loss 774.721180\n",
      "\n",
      " ======>>>> lr : reg -->  1e-07 -- 50000.0\n",
      "iteration 0 / 10: loss 1552.399853\n",
      "iteration 1 / 10: loss 1552.583665\n",
      "iteration 2 / 10: loss 1552.330924\n",
      "iteration 3 / 10: loss 1552.313135\n",
      "iteration 4 / 10: loss 1552.043716\n",
      "iteration 5 / 10: loss 1552.048318\n",
      "iteration 6 / 10: loss 1551.906045\n",
      "iteration 7 / 10: loss 1551.720460\n",
      "iteration 8 / 10: loss 1551.625294\n",
      "iteration 9 / 10: loss 1551.687764\n",
      "\n",
      " ======>>>> lr : reg -->  1e-07 -- 80000.0\n",
      "iteration 0 / 10: loss 2416.751122\n",
      "iteration 1 / 10: loss 2416.430797\n",
      "iteration 2 / 10: loss 2415.945106\n",
      "iteration 3 / 10: loss 2416.233419\n",
      "iteration 4 / 10: loss 2416.389735\n",
      "iteration 5 / 10: loss 2415.925999\n",
      "iteration 6 / 10: loss 2415.744160\n",
      "iteration 7 / 10: loss 2415.867490\n",
      "iteration 8 / 10: loss 2415.773301\n",
      "iteration 9 / 10: loss 2415.484844\n",
      "\n",
      " ======>>>> lr : reg -->  5e-05 -- 25000.0\n",
      "iteration 0 / 10: loss 780.144591\n",
      "iteration 1 / 10: loss 812.195197\n",
      "iteration 2 / 10: loss 828.039856\n",
      "iteration 3 / 10: loss 825.589058\n",
      "iteration 4 / 10: loss 801.182560\n",
      "iteration 5 / 10: loss 811.667089\n",
      "iteration 6 / 10: loss 843.527704\n",
      "iteration 7 / 10: loss 842.747946\n",
      "iteration 8 / 10: loss 831.671832\n",
      "iteration 9 / 10: loss 842.989639\n",
      "\n",
      " ======>>>> lr : reg -->  5e-05 -- 50000.0\n",
      "iteration 0 / 10: loss 1528.066291\n",
      "iteration 1 / 10: loss 1547.622555\n",
      "iteration 2 / 10: loss 1578.986361\n",
      "iteration 3 / 10: loss 1618.110890\n",
      "iteration 4 / 10: loss 1643.562367\n",
      "iteration 5 / 10: loss 1603.789122\n",
      "iteration 6 / 10: loss 1619.153713\n",
      "iteration 7 / 10: loss 1646.820644\n",
      "iteration 8 / 10: loss 1659.457824\n",
      "iteration 9 / 10: loss 1654.953904\n",
      "\n",
      " ======>>>> lr : reg -->  5e-05 -- 80000.0\n",
      "iteration 0 / 10: loss 2447.639028\n",
      "iteration 1 / 10: loss 2504.484581\n",
      "iteration 2 / 10: loss 2599.355566\n",
      "iteration 3 / 10: loss 2596.365606\n",
      "iteration 4 / 10: loss 2532.515131\n",
      "iteration 5 / 10: loss 2544.976279\n",
      "iteration 6 / 10: loss 2617.639986\n",
      "iteration 7 / 10: loss 2620.462890\n",
      "iteration 8 / 10: loss 2600.403053\n",
      "iteration 9 / 10: loss 2583.605726\n",
      "\n",
      " ======>>>> lr : reg -->  0.004 -- 25000.0\n",
      "iteration 0 / 10: loss 783.471185\n"
     ]
    },
    {
     "name": "stderr",
     "output_type": "stream",
     "text": [
      "d:\\DL_sum\\cs231n\\test_1_3_softmax\\classifiers\\softmax.py:94: RuntimeWarning: overflow encountered in exp\n",
      "  score = np.exp(score)\n",
      "d:\\DL_sum\\cs231n\\test_1_3_softmax\\classifiers\\softmax.py:100: RuntimeWarning: invalid value encountered in multiply\n",
      "  sum_scores = 1.0 / sum_scores\n",
      "d:\\DL_sum\\cs231n\\test_1_3_softmax\\classifiers\\softmax.py:105: RuntimeWarning: divide by zero encountered in log\n",
      "  \n"
     ]
    },
    {
     "name": "stdout",
     "output_type": "stream",
     "text": [
      "iteration 1 / 10: loss nan\n",
      "iteration 2 / 10: loss nan\n",
      "iteration 3 / 10: loss nan\n",
      "iteration 4 / 10: loss nan\n",
      "iteration 5 / 10: loss nan\n",
      "iteration 6 / 10: loss nan\n",
      "iteration 7 / 10: loss nan\n",
      "iteration 8 / 10: loss nan\n",
      "iteration 9 / 10: loss nan\n",
      "\n",
      " ======>>>> lr : reg -->  0.004 -- 50000.0\n",
      "iteration 0 / 10: loss 1533.742336\n",
      "iteration 1 / 10: loss nan\n",
      "iteration 2 / 10: loss nan\n",
      "iteration 3 / 10: loss nan\n",
      "iteration 4 / 10: loss nan\n",
      "iteration 5 / 10: loss nan\n",
      "iteration 6 / 10: loss nan\n",
      "iteration 7 / 10: loss nan\n",
      "iteration 8 / 10: loss nan\n",
      "iteration 9 / 10: loss nan\n",
      "\n",
      " ======>>>> lr : reg -->  0.004 -- 80000.0\n",
      "iteration 0 / 10: loss 2479.133671\n",
      "iteration 1 / 10: loss nan\n",
      "iteration 2 / 10: loss nan\n",
      "iteration 3 / 10: loss nan\n",
      "iteration 4 / 10: loss nan\n",
      "iteration 5 / 10: loss nan\n",
      "iteration 6 / 10: loss nan\n",
      "iteration 7 / 10: loss nan\n",
      "iteration 8 / 10: loss nan\n",
      "iteration 9 / 10: loss nan\n"
     ]
    }
   ],
   "source": [
    "from classifiers.linear_classifier import LinearSoftmax\n",
    "\n",
    "# 设置 需要调整的参数 及其 范围\n",
    "learning_rate = [1e-7, 5e-5, 4e-3]\n",
    "regularization_strength = [2.5e4, 5e4, 8e4]\n",
    "\n",
    "results = {} #(learning_rate, regularization_strength)\n",
    "best_val = -1\n",
    "best_softmax = None\n",
    "\n",
    "num_iters = 10\n",
    "for lr in learning_rate:\n",
    "    for reg in regularization_strength:\n",
    "        print (\"\\n ======>>>> lr : reg --> \",lr ,'--', reg)\n",
    "        \n",
    "        # 1、创建 分类器\n",
    "        softmax = LinearSoftmax()\n",
    "        \n",
    "        # 2、训练 分类器\n",
    "        loss_history = softmax.train(X_train, y_train,\n",
    "                                    learning_rate=lr, \n",
    "                                    reg=reg,\n",
    "                                    num_iters=num_iters, \n",
    "                                    batch_size=256, \n",
    "                                    verbose=True)\n",
    "        \n",
    "        # 3、计算 准确率\n",
    "        train_pred = softmax.predict(X_train)\n",
    "        train_acc = np.mean( y_train == train_pred)\n",
    "        \n",
    "        val_pred = softmax.predict(X_val)\n",
    "        val_acc = np.mean( y_val == val_pred)\n",
    "        \n",
    "        # 4、存储 结果 \n",
    "        results[(lr, reg)] = (train_acc,val_acc)\n",
    "        \n",
    "        if val_acc > best_val:\n",
    "            best_val = val_acc\n",
    "            best_softmax = softmax"
   ]
  },
  {
   "cell_type": "code",
   "execution_count": 69,
   "metadata": {},
   "outputs": [
    {
     "name": "stdout",
     "output_type": "stream",
     "text": [
      "lr:1.000000e-07  reg:2.500000e+04  --> train accuracy:0.108265 ; val accuracy:0.105000 \n",
      "lr:1.000000e-07  reg:5.000000e+04  --> train accuracy:0.092449 ; val accuracy:0.097000 \n",
      "lr:1.000000e-07  reg:8.000000e+04  --> train accuracy:0.125490 ; val accuracy:0.114000 \n",
      "lr:5.000000e-05  reg:2.500000e+04  --> train accuracy:0.174510 ; val accuracy:0.167000 \n",
      "lr:5.000000e-05  reg:5.000000e+04  --> train accuracy:0.226367 ; val accuracy:0.245000 \n",
      "lr:5.000000e-05  reg:8.000000e+04  --> train accuracy:0.255796 ; val accuracy:0.261000 \n",
      "lr:4.000000e-03  reg:2.500000e+04  --> train accuracy:0.100265 ; val accuracy:0.087000 \n",
      "lr:4.000000e-03  reg:5.000000e+04  --> train accuracy:0.100265 ; val accuracy:0.087000 \n",
      "lr:4.000000e-03  reg:8.000000e+04  --> train accuracy:0.100265 ; val accuracy:0.087000 \n",
      "Best validation accuracy achieved during cross-validation: 0.261000\n"
     ]
    }
   ],
   "source": [
    "# 打印 cross-validation results\n",
    "for lr, reg in sorted(results):\n",
    "    train_acc, val_acc = results[(lr, reg)]\n",
    "    print ('lr:%e  reg:%e  --> train accuracy:%f ; val accuracy:%f ' % (\n",
    "          lr, reg, train_acc, val_acc) )\n",
    "print ('Best validation accuracy achieved during cross-validation: %f' % best_val)\n"
   ]
  },
  {
   "cell_type": "markdown",
   "metadata": {},
   "source": [
    "#### 可视化  cross-validation results"
   ]
  },
  {
   "cell_type": "code",
   "execution_count": 70,
   "metadata": {},
   "outputs": [
    {
     "data": {
      "image/png": "[encoded data removed]",
      "text/plain": [
       "<matplotlib.figure.Figure at 0x2208092a518>"
      ]
     },
     "metadata": {},
     "output_type": "display_data"
    }
   ],
   "source": [
    "import math\n",
    "x_scatter = [math.log10(x[0]) for x in results]\n",
    "y_scatter = [math.log10(x[1]) for x in results]\n",
    "\n",
    "# plot training accuracy\n",
    "market_size = 100\n",
    "colors = [results[x][0] for x in results]\n",
    "plt.subplot(2, 1, 1)\n",
    "plt.scatter(x_scatter, y_scatter, market_size, c=colors)\n",
    "plt.colorbar()\n",
    "plt.xlabel('log learning rate')\n",
    "plt.ylabel('log regularzation strength')\n",
    "plt.title('CIFAR-10 training accuracy')\n",
    "\n",
    "# plot validation accuracy\n",
    "market_size = 100\n",
    "colors = [results[x][1] for x in results]\n",
    "plt.subplot(2, 1, 2)\n",
    "plt.scatter(x_scatter, y_scatter, market_size, c=colors)\n",
    "plt.colorbar()\n",
    "plt.xlabel('log learning rate')\n",
    "plt.ylabel('log regularzation strength')\n",
    "plt.title('CIFAR-10 validation accuracy')\n",
    "\n",
    "plt.show()"
   ]
  },
  {
   "cell_type": "markdown",
   "metadata": {
    "collapsed": true
   },
   "source": [
    "####  可视化 每个类别 W "
   ]
  },
  {
   "cell_type": "code",
   "execution_count": 71,
   "metadata": {},
   "outputs": [
    {
     "data": {
      "image/png": "[encoded data removed]",
      "text/plain": [
       "<matplotlib.figure.Figure at 0x2208092a390>"
      ]
     },
     "metadata": {},
     "output_type": "display_data"
    }
   ],
   "source": [
    "w = best_softmax.W[:-1,:] # strip out the bias\n",
    "w = w.reshape(32, 32, 3, 10)\n",
    "\n",
    "w_min, w_max = np.min(w), np.max(w)\n",
    "\n",
    "classes = ['plane', 'car', 'bird', 'cat', 'deer', 'dog', 'frog', 'horse', 'ship', 'truck']\n",
    "for i in range(10):\n",
    "    plt.subplot(2, 5, i + 1)\n",
    "    \n",
    "    # Rescale the weights to be between 0 and 255\n",
    "    wimg = 255.0 * (w[:, :, :, i].squeeze() - w_min) / (w_max - w_min)\n",
    "    plt.imshow(wimg.astype('uint8'))\n",
    "    plt.axis('off')\n",
    "    plt.title(classes[i])"
   ]
  },
  {
   "cell_type": "markdown",
   "metadata": {
    "collapsed": true
   },
   "source": [
    "## test"
   ]
  },
  {
   "cell_type": "code",
   "execution_count": 72,
   "metadata": {},
   "outputs": [
    {
     "name": "stdout",
     "output_type": "stream",
     "text": [
      "softmax on raw pixels final test set accuracy: 0.256800\n"
     ]
    }
   ],
   "source": [
    "# 在 test set 上 评估 上述选中的 best_svm 分类器\n",
    "y_test_pred = best_softmax.predict(X_test)\n",
    "test_accuracy = np.mean(y_test == y_test_pred)\n",
    "print('softmax on raw pixels final test set accuracy: %f' % (test_accuracy, ))"
   ]
  },
  {
   "cell_type": "code",
   "execution_count": null,
   "metadata": {
    "collapsed": true
   },
   "outputs": [],
   "source": []
  }
 ],
 "metadata": {
  "kernelspec": {
   "display_name": "Python 3",
   "language": "python",
   "name": "python3"
  },
  "language_info": {
   "codemirror_mode": {
    "name": "ipython",
    "version": 3
   },
   "file_extension": ".py",
   "mimetype": "text/x-python",
   "name": "python",
   "nbconvert_exporter": "python",
   "pygments_lexer": "ipython3",
   "version": "3.5.3"
  }
 },
 "nbformat": 4,
 "nbformat_minor": 2
}
